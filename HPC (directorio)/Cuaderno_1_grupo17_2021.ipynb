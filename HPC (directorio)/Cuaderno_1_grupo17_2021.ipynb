{
  "nbformat": 4,
  "nbformat_minor": 0,
  "metadata": {
    "colab": {
      "name": "Cuaderno_1_grupo17_2021.ipynb",
      "provenance": [],
      "collapsed_sections": [],
      "include_colab_link": true
    },
    "kernelspec": {
      "name": "python3",
      "display_name": "Python 3"
    },
    "language_info": {
      "name": "python"
    },
    "accelerator": "GPU"
  },
  "cells": [
    {
      "cell_type": "markdown",
      "metadata": {
        "id": "view-in-github",
        "colab_type": "text"
      },
      "source": [
        "<a href=\"https://colab.research.google.com/github/santiagogiasone/COVID-PersonLimiter/blob/master/HPC%20(directorio)/Cuaderno_1_grupo17_2021.ipynb\" target=\"_parent\"><img src=\"https://colab.research.google.com/assets/colab-badge.svg\" alt=\"Open In Colab\"/></a>"
      ]
    },
    {
      "cell_type": "markdown",
      "metadata": {
        "id": "F78JXSzVG07K"
      },
      "source": [
        "### **Introducción**\n",
        "\n",
        "\n",
        "\n",
        "\n",
        "El siguiente ejemplo modifica el color de una imágen parametrizada, dando como resultado una nueva imagen con los colores diametralmente opuestos en el circulo cromatico). El cálculo de la Inversion de Color se realiza convirtiendo los 3 canales RGB, que representan a los colores R (rojo)-G(verde)-B(azul) de cada pixel, generando el complemento del valor de cada componente:\n",
        "<center><br>$ Pixel= (255-R, 255-G, 255-B)$</center></br>\n",
        "\n",
        "El objetivo del ejercicio es comparar y analizar la ejecucion en forma secuencial (usando solo CPU) y su version paralela (usando GPU).\n",
        "\n",
        "---\n",
        "\n"
      ]
    },
    {
      "cell_type": "markdown",
      "metadata": {
        "id": "HCToRlgVuD2Y"
      },
      "source": [
        "### **Armado del ambiente**\n",
        "Toma la direcciòn web de una imagen con acceso público en internet, la deja disponible al contexto de ejecuciòn del cuaderno colab."
      ]
    },
    {
      "cell_type": "markdown",
      "metadata": {
        "id": "4s48XxX9ZBjK"
      },
      "source": [
        "Obtencion de imagen"
      ]
    },
    {
      "cell_type": "code",
      "metadata": {
        "id": "MLhXTV8xGvkE"
      },
      "source": [
        "### Parámetros de ejecución\n",
        "\n",
        "#@markdown ### Especifique la URL de la imagen:\n",
        "url_imagen = \"https://columnacero.com/pic/25689/spider-man-un-nuevo-universo.jpg\" #@param {type:\"string\"}\n",
        "#link a imagen de prueba https://columnacero.com/pic/25689/spider-man-un-nuevo-universo.jpg\n",
        "# Leo la imagen desde internet y la almaceno \"localmente\" como imagen.jpg\n",
        "!wget {url_imagen} -O imagen.jpg"
      ],
      "execution_count": null,
      "outputs": []
    },
    {
      "cell_type": "markdown",
      "metadata": {
        "id": "e4kTAccxrLvX"
      },
      "source": [
        " Tener en cuenta que tambien es necesario instalar la libreria de la GPU como asi tambien verificar que este activo el entorno de ejecucion de GPU"
      ]
    },
    {
      "cell_type": "code",
      "metadata": {
        "id": "THiuwDhuDQEC"
      },
      "source": [
        "!pip install pycuda"
      ],
      "execution_count": null,
      "outputs": []
    },
    {
      "cell_type": "markdown",
      "metadata": {
        "id": "34dp2XEgupAf"
      },
      "source": [
        "\n",
        "\n",
        "---\n",
        "\n"
      ]
    },
    {
      "cell_type": "markdown",
      "metadata": {
        "id": "jIbSH0t6uqMu"
      },
      "source": [
        "### **Desarrollo CPU**"
      ]
    },
    {
      "cell_type": "code",
      "metadata": {
        "id": "y-aCfl4vBb_J"
      },
      "source": [
        " %matplotlib inline\n",
        "from datetime import datetime\n",
        "\n",
        "tiempo_total_cpu = datetime.now()\n",
        "\n",
        "import  matplotlib.pyplot as plt\n",
        "import numpy\n",
        "from PIL import Image \n",
        "from PIL import UnidentifiedImageError\n",
        "\n",
        "\n",
        "# --------------------------------------------\n",
        "# Definición de función que transforma el tiempo en  milisegundos \n",
        "tiempo_en_ms = lambda dt:(dt.days * 24 * 60 * 60 + dt.seconds) * 1000 + dt.microseconds / 1000.0\n",
        "# --------------------------------------------\n",
        "\n",
        "try:\n",
        "    img_cpu_nombre = 'imagen.jpg'\n",
        "    image = Image.open( img_cpu_nombre ) \n",
        "      \n",
        "    # Obtengo las proporsiones de la imagen. \n",
        "    img_ancho, img_alto = image.size \n",
        "\n",
        "    #Convierto la imagen a array.\n",
        "    img_pic_cpu = numpy.asarray(image)\n",
        "    img_pic_cpu = img_pic_cpu.astype(numpy.int32())\n",
        "\n",
        "    # Genero el array resultado mismo tamaño que el de la imagen original\n",
        "    img_picR_cpu = numpy.empty_like(img_pic_cpu)\n",
        "\n",
        "    # Muestro los atributos de la imagen y como se ve antes del seudo filtro.\n",
        "    print(\"Imagen: \" + img_cpu_nombre + \" -\" + image.mode + \"- [\" + str(img_ancho) + \", \" + str(img_alto) + \"]\" )  \n",
        "\n",
        "    plt.figure()\n",
        "    imgplot=plt.imshow(img_pic_cpu)\n",
        "\n",
        "    tiempo_img = datetime.now()\n",
        "\n",
        "    # Se realiza la inversion de color\n",
        "    for y  in range( 0, img_alto ): #(int)(img_alto/2)\n",
        "      for x in range( 0, img_ancho ):\n",
        "        pixel_R, pixel_G, pixel_B = img_pic_cpu[y][x]\n",
        "        img_picR_cpu[y][x] = [255-pixel_R, 255-pixel_G, 255-pixel_B]\n",
        "\n",
        "    tiempo_img = datetime.now() - tiempo_img\n",
        "\n",
        "    # Muestro la imagen luego de la inversion del color.\n",
        "    plt.figure()\n",
        "    imgplot = plt.imshow( img_picR_cpu )\n",
        "\n",
        "    tiempo_total_cpu = datetime.now() - tiempo_total_cpu\n",
        "\n",
        "    print( \"Tiempo de conversión de imagen:\", tiempo_en_ms( tiempo_img   ), \"[ms]\" )\n",
        "    print( \"Tiempo Total:\",                   tiempo_en_ms( tiempo_total_cpu ), \"[ms]\" )\n",
        "\n",
        "except FileNotFoundError:\n",
        "    print(\"No se ha descargado ninguna imagen. Por favor, inserte una URL que contenga una imagen en la seccion -Armado de Ambiente-\")\n",
        "except UnidentifiedImageError:\n",
        "    print(\"La URL proporcionada no es valida o no contiene una imagen\")\n",
        "except MemoryError:\n",
        "    print(\"La imagen supera el maximo de memoria disponible en el entorno\")\n",
        "except KeyboardInterrupt:\n",
        "    print(\"Se ha cancelado la ejecucion\")\n",
        "except:\n",
        "    print(\"Error desconocido\")"
      ],
      "execution_count": null,
      "outputs": []
    },
    {
      "cell_type": "markdown",
      "metadata": {
        "id": "NYb-pEi1rtaH"
      },
      "source": [
        "\n",
        "\n",
        "---\n",
        "\n"
      ]
    },
    {
      "cell_type": "markdown",
      "metadata": {
        "id": "n_HfqwhnG29E"
      },
      "source": [
        "\n",
        "### **Desarrollo GPU**\n",
        "\n",
        "\n"
      ]
    },
    {
      "cell_type": "code",
      "metadata": {
        "id": "GS8u70EiIOF8"
      },
      "source": [
        "%matplotlib inline\n",
        "from datetime import datetime\n",
        "tiempo_total_gpu = datetime.now()\n",
        "\n",
        "import matplotlib.pyplot as plt\n",
        "import numpy\n",
        "from PIL import Image\n",
        "from PIL import UnidentifiedImageError\n",
        "try:\n",
        "  import pycuda.driver as cuda\n",
        "  import pycuda.autoinit\n",
        "  from pycuda.compiler import SourceModule\n",
        "except ModuleNotFoundError:\n",
        "    print(\"No se han instalado las librerias necesarias ver seccion -Armado del ambiente-\")\n",
        "  \n",
        "\n",
        "try:\n",
        "  # --------------------------------------------\n",
        "  # Definición de función que transforma el tiempo en  milisegundos \n",
        "  tiempo_en_ms = lambda dt:(dt.days * 24 * 60 * 60 + dt.seconds) * 1000 + dt.microseconds / 1000.0\n",
        "  # --------------------------------------------\n",
        "\n",
        "  img_gpu_nombre = 'imagen.jpg'\n",
        "  image = Image.open( img_gpu_nombre ) \n",
        "    \n",
        "  # Obtengo las proporciones de la imagen. \n",
        "  img_ancho, img_alto  = image.size \n",
        "\n",
        "  # Convierto la imagen comprimida en JPEG/PNG a array\n",
        "  img_O_cpu = numpy.asarray(image)\n",
        "  img_O_cpu = img_O_cpu.astype( numpy.int32() )\n",
        "  img_R_cpu = numpy.empty_like( img_O_cpu)\n",
        "\n",
        "  # Reservo los 2 vectores en GPU(3 pixeles usa RGB * (el tamaño del array))\n",
        "  img_O_gpu = cuda.mem_alloc( img_O_cpu.nbytes )\n",
        "  img_R_gpu = cuda.mem_alloc( img_R_cpu.nbytes )\n",
        "\n",
        "  # GPU - Copio la memoria al GPU.\n",
        "  cuda.memcpy_htod( img_O_gpu, img_O_cpu )\n",
        "  cuda.memcpy_htod( img_R_gpu, img_R_cpu )\n",
        "\n",
        "  # CPU - Defino la función kernel que ejecutará en GPU.\n",
        "  module = SourceModule(\"\"\"\n",
        "  __global__ void kernel_img( int ancho, int alto, int *img_O, int *img_R )\n",
        "  {\n",
        "    // Calculo las coordenadas del Thread en dos dimensiones.\n",
        "    int idx = threadIdx.x + blockIdx.x*blockDim.x;\n",
        "    int idy = threadIdx.y + blockIdx.y*blockDim.y;\n",
        "    int red=0;\n",
        "    int green=0;\n",
        "    int blue=0;\n",
        "\n",
        "    // Verifico que los Thread, esten dentro de las dimensiones de la imagen.\n",
        "    if( idx < ancho && idy < alto )\n",
        "    {\n",
        "      //calculo el valor de cada pixel\n",
        "      red=255-(img_O[(idx+(idy*ancho))*3  ]);// Componente Rojo del pixel.\n",
        "      green=255-(img_O[((idx+(idy*ancho))*3)+1]);// Componente Verde del pixel.\n",
        "      blue=255-(img_O[((idx+(idy*ancho))*3)+2]);// Componente Azul del pixel.\n",
        "\n",
        "      //escribo el color de cada pixel.\n",
        "      img_R[(idx+(idy*ancho))*3  ] = red;\n",
        "      img_R[((idx+(idy*ancho))*3)+1] = green;\n",
        "      img_R[((idx+(idy*ancho))*3)+2] = blue;\n",
        "    }\n",
        "  }\n",
        "  \"\"\") \n",
        "\n",
        "  # Muestro los atributos de la imagen y como se ve antes del filtro.\n",
        "  print(\"Imagen: \" + img_gpu_nombre + \" -\" + image.mode + \"- [\" + str(img_ancho) + \", \" + str(img_alto ) + \"]\" )  \n",
        "\n",
        "  # CPU - Genero la función kernel.\n",
        "  kernel = module.get_function(\"kernel_img\")\n",
        "\n",
        "  tiempo_img = datetime.now()\n",
        "\n",
        "  dim_hilo_x = 16\n",
        "  dim_bloque_x = numpy.int( (img_ancho+dim_hilo_x-1) / dim_hilo_x )\n",
        "\n",
        "  dim_hilo_y = 10\n",
        "  dim_bloque_y = numpy.int( (img_alto+dim_hilo_y-1) / dim_hilo_y )\n",
        "\n",
        "  print( \"Thread: [\", dim_hilo_x, \",\", dim_hilo_y, \" ], Bloque : [\", dim_bloque_x, \",\", dim_bloque_y, \"]\" )\n",
        "  print( \"Total de Thread: [\", dim_hilo_x*dim_bloque_x, \",\", dim_hilo_y*dim_bloque_y, \" ]\", \" = \", dim_hilo_x*dim_bloque_x*dim_hilo_y*dim_bloque_y )\n",
        "\n",
        "  tiempo_img = datetime.now()\n",
        "\n",
        "  kernel( numpy.int32(img_ancho), numpy.int32(img_alto), img_O_gpu, img_R_gpu, block=(dim_hilo_x,dim_hilo_y, 1 ), grid=(dim_bloque_x, dim_bloque_y,1) ) \n",
        "\n",
        "  tiempo_img = datetime.now() - tiempo_img\n",
        "\n",
        "  # GPU - Copio el resultado desde la memoria GPU.\n",
        "  cuda.memcpy_dtoh( img_R_cpu, img_R_gpu )\n",
        "\n",
        "  # Muestro la imagen Original el filtro.\n",
        "  plt.figure()\n",
        "  imgplot=plt.imshow( img_O_cpu )\n",
        "\n",
        "  # Muestro la imagen luego de aplicarle el filtro.\n",
        "  plt.figure()\n",
        "  imgplot=plt.imshow( img_R_cpu )\n",
        "\n",
        "  tiempo_total_gpu = datetime.now() - tiempo_total_gpu\n",
        "\n",
        "  print(\"Tiempo GPU  : \", tiempo_en_ms( tiempo_img ), \"[ms]\" )\n",
        "  print(\"Tiempo TOTAL: \", tiempo_en_ms( tiempo_total_gpu ), \"[ms]\" )\n",
        "\n",
        "except FileNotFoundError:\n",
        "    print(\"No se ha descargado ninguna imagen. Por favor, inserte una URL que contenga una imagen en la seccion -Armado de Ambiente-\")\n",
        "except UnidentifiedImageError:\n",
        "    print(\"La URL proporcionada no es valida o no contiene una imagen\")\n",
        "except MemoryError:\n",
        "    print(\"La imagen supera el maximo de memoria disponible en el entorno\")\n",
        "except KeyboardInterrupt:\n",
        "    print(\"Se ha cancelado la ejecucion\")\n",
        "except:\n",
        "    print(\"Error desconocido\")"
      ],
      "execution_count": null,
      "outputs": []
    },
    {
      "cell_type": "markdown",
      "metadata": {
        "id": "WVm7yJ8dunMY"
      },
      "source": [
        "### **Metricas**\n",
        "\n",
        "\n"
      ]
    },
    {
      "cell_type": "code",
      "metadata": {
        "id": "nzBNt6aOrf0O"
      },
      "source": [
        "### **Metricas**\n",
        "try:\n",
        "  print(\"CPU=\")\n",
        "  print(\"Imagen: \" + img_cpu_nombre + \" -\" + image.mode + \"- [\" + str(img_ancho) + \", \" + str(img_alto) + \"]\" )  \n",
        "  print( \"Tiempo Total de CPU:\",                   tiempo_en_ms( tiempo_total_cpu ), \"[ms]\" )\n",
        "except AttributeError:\n",
        "  print(\"Se debe ejecutar el Codigo que convierte la imagen mediante CPU para obtener alguna metrica\") \n",
        "\n",
        "print(\"\")\n",
        "print(\"vs\")\n",
        "print(\"\")\n",
        "\n",
        "try: \n",
        "  print(\"GPU=\")\n",
        "  print(\"Imagen: \" + img_gpu_nombre + \" -\" + image.mode + \"- [\" + str(img_ancho) + \", \" + str(img_alto ) + \"]\" )  \n",
        "  print( \"Tiempo Total de GPU:\",                   tiempo_en_ms( tiempo_total_gpu ), \"[ms]\" )\n",
        "except AttributeError:\n",
        "  print(\"Se debe ejecutar el Codigo que convierte la imagen mediante GPU para obtener alguna metrica\") "
      ],
      "execution_count": null,
      "outputs": []
    },
    {
      "cell_type": "markdown",
      "metadata": {
        "id": "t5MDCWFHvJuu"
      },
      "source": [
        "### Conclusiones\n",
        "El tiempo de procesamiento de la imagen cuando se ejecuta el Algoritmo de forma paralela (es decir con la GPU) es considerablemente menor que si se realiza de forma secuencial (con la CPU). \n",
        "Para este tipo de proyectos, donde para una gran cantidad de datos se realiza el mismo calculo repetidamente, es muy recomendable resolverlo con GPU ya que se trata de tareas que pueden ser paralelizables."
      ]
    },
    {
      "cell_type": "markdown",
      "metadata": {
        "id": "D4yMtIrDvU0_"
      },
      "source": [
        "### Bibliografia\n",
        "[1] Algoritmo de inversion de color de imagen OpenCV. Anónimo. (s. f.) https://programmerclick.com/article/1612326767/\n",
        "\n",
        "[2] Valiente Waldo: Prueba 2 - Imagen - CPU. (27/06/2021). GitHub. https://github.com/wvaliente/SOA_HPC/blob/main/Ejercicios/Prueba%202%20-%20Imagen%20-%20CPU.ipynb\n",
        "\n",
        "[3] Valiente Waldo: Prueba 2 - Imagen - GPU. (27/06/2021). GitHub: https://github.com/wvaliente/SOA_HPC/blob/main/Ejercicios/Prueba%202%20-%20Imagen%20-%20GPU.ipynb\n",
        "\n",
        "[4] Valiente Waldo: Ejemplo Hola Mundo GPU. (23/06/2021). GitHub. https://github.com/wvaliente/SOA_HPC/blob/main/Ejercicios/Prueba%200%20-%20Hola%20Mundo%20GPU.ipynb"
      ]
    }
  ]
}