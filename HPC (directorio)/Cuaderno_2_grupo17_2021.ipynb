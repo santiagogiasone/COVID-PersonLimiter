{
  "nbformat": 4,
  "nbformat_minor": 0,
  "metadata": {
    "accelerator": "GPU",
    "colab": {
      "name": "DeepfakeDiscordBot.ipynb",
      "provenance": [],
      "collapsed_sections": [],
      "include_colab_link": true
    },
    "kernelspec": {
      "display_name": "Python 3",
      "name": "python3"
    },
    "language_info": {
      "name": "python"
    }
  },
  "cells": [
    {
      "cell_type": "markdown",
      "metadata": {
        "id": "view-in-github",
        "colab_type": "text"
      },
      "source": [
        "<a href=\"https://colab.research.google.com/github/santiagogiasone/COVID-PersonLimiter/blob/master/HPC%20(directorio)/Cuaderno_2_grupo17_2021.ipynb\" target=\"_parent\"><img src=\"https://colab.research.google.com/assets/colab-badge.svg\" alt=\"Open In Colab\"/></a>"
      ]
    },
    {
      "cell_type": "markdown",
      "metadata": {
        "id": "rPjPV0iDUT8g"
      },
      "source": [
        "<p align=\"center\">\n",
        "  <img align=\"center\" width=\"256\" height=\"256\" src=\"https://i.imgur.com/OskOQbI.png\">\n",
        "</p>\n",
        "\n",
        "#Deepfake Discord Bot\n",
        "\n",
        "\n",
        "1.   #### Introduccion\n",
        "Luego de seguir el instructivo correspondiente, usted podra invitar a su servidor de discord al bot creado que dandole como input una video y una imagen, le creara un deepfake de ese video con la cara que aparece en la imagen.\n",
        "\n",
        "\n",
        "\n"
      ]
    },
    {
      "cell_type": "markdown",
      "metadata": {
        "id": "IsS8JuIiF1IK"
      },
      "source": [
        "2.   #### Armado del ambiente\n",
        "\n",
        "Primero que nada es indispensable que configure el BOT de Discord, si usted no sabe como crear un bot y obtener su TOKEN nosotros le proveemos el mismo y puede dejar el TOKEN configurado en la variable de entorno por defecto.\n",
        "\n",
        "Link de Invitacion al BOT (Por si quiere usar el default): https://discord.com/api/oauth2/authorize?client_id=912791690639704134&permissions=517544069184&scope=bot\n",
        "\n",
        "Instalamos las dependencias de python para que el proyecto funcione correctamente\n",
        "\n"
      ]
    },
    {
      "cell_type": "markdown",
      "metadata": {
        "id": "wKQJP-dovNO_"
      },
      "source": [
        "**Monta tu google drive dentro del proyecto**"
      ]
    },
    {
      "cell_type": "code",
      "metadata": {
        "colab": {
          "base_uri": "https://localhost:8080/"
        },
        "id": "tmohZhMkveL6",
        "outputId": "f23e1114-3a06-4d52-ccc2-097de69ebc9c"
      },
      "source": [
        "from google.colab import drive\n",
        "drive.mount('/content/gdrive')"
      ],
      "execution_count": null,
      "outputs": [
        {
          "output_type": "stream",
          "name": "stdout",
          "text": [
            "Mounted at /content/gdrive\n"
          ]
        }
      ]
    },
    {
      "cell_type": "markdown",
      "metadata": {
        "id": "B3fjLAXwwdhB"
      },
      "source": [
        "**Copiar la siguiente carpeta en el directorio raiz de tu Google Drive**\n",
        "https://drive.google.com/drive/folders/1TePCM7kivxvupd1vfgPbAY0IoE88zdDj?usp=sharing"
      ]
    },
    {
      "cell_type": "markdown",
      "metadata": {
        "id": "i6HMy0RertJP"
      },
      "source": [
        "**Clonar el Repositorio de Deepfake**"
      ]
    },
    {
      "cell_type": "code",
      "metadata": {
        "colab": {
          "base_uri": "https://localhost:8080/"
        },
        "id": "0A73BKUnrneZ",
        "outputId": "7e7cb0f4-414c-45e4-db98-7d903da4fa85"
      },
      "source": [
        "!git clone https://github.com/AliaksandrSiarohin/motion-cosegmentation motion-co-seg"
      ],
      "execution_count": null,
      "outputs": [
        {
          "output_type": "stream",
          "name": "stdout",
          "text": [
            "Cloning into 'motion-co-seg'...\n",
            "remote: Enumerating objects: 103, done.\u001b[K\n",
            "remote: Counting objects: 100% (13/13), done.\u001b[K\n",
            "remote: Compressing objects: 100% (13/13), done.\u001b[K\n",
            "remote: Total 103 (delta 7), reused 0 (delta 0), pack-reused 90\u001b[K\n",
            "Receiving objects: 100% (103/103), 42.61 MiB | 30.99 MiB/s, done.\n",
            "Resolving deltas: 100% (35/35), done.\n"
          ]
        }
      ]
    },
    {
      "cell_type": "code",
      "metadata": {
        "colab": {
          "base_uri": "https://localhost:8080/"
        },
        "id": "X45MNoMir7RM",
        "outputId": "b5b632f2-0f9c-4cf8-8302-33da0acbcc8d"
      },
      "source": [
        "cd motion-co-seg/"
      ],
      "execution_count": null,
      "outputs": [
        {
          "output_type": "stream",
          "name": "stdout",
          "text": [
            "/content/motion-co-seg\n"
          ]
        }
      ]
    },
    {
      "cell_type": "code",
      "metadata": {
        "colab": {
          "base_uri": "https://localhost:8080/"
        },
        "id": "v8nI5gv6EuUc",
        "outputId": "46bd10e1-0702-4300-ebe8-dfb80f237614"
      },
      "source": [
        "!pip install discord"
      ],
      "execution_count": null,
      "outputs": [
        {
          "output_type": "stream",
          "name": "stdout",
          "text": [
            "Collecting discord\n",
            "  Downloading discord-1.7.3-py3-none-any.whl (1.1 kB)\n",
            "Collecting discord.py>=1.7.3\n",
            "  Downloading discord.py-1.7.3-py3-none-any.whl (786 kB)\n",
            "\u001b[K     |████████████████████████████████| 786 kB 5.1 MB/s \n",
            "\u001b[?25hCollecting aiohttp<3.8.0,>=3.6.0\n",
            "  Downloading aiohttp-3.7.4.post0-cp37-cp37m-manylinux2014_x86_64.whl (1.3 MB)\n",
            "\u001b[K     |████████████████████████████████| 1.3 MB 33.6 MB/s \n",
            "\u001b[?25hCollecting async-timeout<4.0,>=3.0\n",
            "  Downloading async_timeout-3.0.1-py3-none-any.whl (8.2 kB)\n",
            "Requirement already satisfied: chardet<5.0,>=2.0 in /usr/local/lib/python3.7/dist-packages (from aiohttp<3.8.0,>=3.6.0->discord.py>=1.7.3->discord) (3.0.4)\n",
            "Collecting multidict<7.0,>=4.5\n",
            "  Downloading multidict-5.2.0-cp37-cp37m-manylinux_2_5_x86_64.manylinux1_x86_64.manylinux_2_12_x86_64.manylinux2010_x86_64.whl (160 kB)\n",
            "\u001b[K     |████████████████████████████████| 160 kB 56.7 MB/s \n",
            "\u001b[?25hRequirement already satisfied: attrs>=17.3.0 in /usr/local/lib/python3.7/dist-packages (from aiohttp<3.8.0,>=3.6.0->discord.py>=1.7.3->discord) (21.2.0)\n",
            "Requirement already satisfied: typing-extensions>=3.6.5 in /usr/local/lib/python3.7/dist-packages (from aiohttp<3.8.0,>=3.6.0->discord.py>=1.7.3->discord) (3.10.0.2)\n",
            "Collecting yarl<2.0,>=1.0\n",
            "  Downloading yarl-1.7.2-cp37-cp37m-manylinux_2_5_x86_64.manylinux1_x86_64.manylinux_2_12_x86_64.manylinux2010_x86_64.whl (271 kB)\n",
            "\u001b[K     |████████████████████████████████| 271 kB 74.4 MB/s \n",
            "\u001b[?25hRequirement already satisfied: idna>=2.0 in /usr/local/lib/python3.7/dist-packages (from yarl<2.0,>=1.0->aiohttp<3.8.0,>=3.6.0->discord.py>=1.7.3->discord) (2.10)\n",
            "Installing collected packages: multidict, yarl, async-timeout, aiohttp, discord.py, discord\n",
            "Successfully installed aiohttp-3.7.4.post0 async-timeout-3.0.1 discord-1.7.3 discord.py-1.7.3 multidict-5.2.0 yarl-1.7.2\n"
          ]
        }
      ]
    },
    {
      "cell_type": "markdown",
      "metadata": {
        "id": "-IfKWkphGgcO"
      },
      "source": [
        "**Parcheo asyncio**"
      ]
    },
    {
      "cell_type": "code",
      "metadata": {
        "id": "L97ZM_kWYAin"
      },
      "source": [
        "## Este módulo parchea asyncio para permitir el uso anidado de asyncio.run y loop.run_until_complete.\n",
        "import nest_asyncio \n",
        "nest_asyncio.apply()"
      ],
      "execution_count": null,
      "outputs": []
    },
    {
      "cell_type": "markdown",
      "metadata": {
        "id": "pj0Ang7Mw2D0"
      },
      "source": [
        "**Dependencias de DeepFake**"
      ]
    },
    {
      "cell_type": "code",
      "metadata": {
        "id": "O6quS9Vlw6JW"
      },
      "source": [
        "import imageio\n",
        "from skimage.transform import resize\n",
        "from part_swap import load_checkpoints\n",
        "from part_swap import make_video\n",
        "from skimage import img_as_ubyte"
      ],
      "execution_count": null,
      "outputs": []
    },
    {
      "cell_type": "markdown",
      "metadata": {
        "id": "EQza3MJTg7Uk"
      },
      "source": [
        "**Variables de entorno**"
      ]
    },
    {
      "cell_type": "code",
      "metadata": {
        "id": "HLNA7KZVhBGf"
      },
      "source": [
        "## Configuracion de Variables de Entorno\n",
        "\n",
        "TOKEN = \"OTEyNzkxNjkwNjM5NzA0MTM0.YZ1FgQ.OvL3wC5RwW2tAv022qemb9aro_k\" #Aqui va su propio TOKEN de su BOT, si no lo creo dejelo asi como esta\n",
        "TOBEY = \"/content/gdrive/My Drive/colab_fakecord/tobey.mp4\"\n",
        "DICAPRIO = \"/content/gdrive/My Drive/colab_fakecord/10.mp4\"\n",
        "cpu = False\n",
        "reconstruction_module, segmentation_module = load_checkpoints(config='config/vox-256-sem-5segments.yaml', \n",
        "                                               checkpoint='/content/gdrive/My Drive/colab_fakecord/vox-5segments.pth.tar',\n",
        "                                               blend_scale=1)"
      ],
      "execution_count": null,
      "outputs": []
    },
    {
      "cell_type": "markdown",
      "metadata": {
        "id": "UbJ8AlwfMS3z"
      },
      "source": [
        "3. #### Desarrollo\n",
        "\n",
        "Luego de iniciar el ambiente de desarrollo, procedemos a levantar nuestro servicio de discord y crear nuestra funcion para obtener el video con la cara del protagonista del video modificada por la que el usuario de discord envio. Para ello redimensionamos ambos archivos para mantener consistencia en el video y los transformarmos a un tipo de variable aceptable por la libreria de deepfake, luego de esto la libreria de discord se encarga de enviar el mensaje conjunto al video modificado.\n",
        "\n",
        "\n",
        "\n",
        "**Definimos nuestra funcion de Deepfake**"
      ]
    },
    {
      "cell_type": "code",
      "metadata": {
        "id": "9-2Z9c9pMWu0"
      },
      "source": [
        "async def get_video(img_url, file_name, video_path):\n",
        "  filename, file_extension = os.path.splitext(file_name)\n",
        "  r = requests.get(img_url)\n",
        "  image = imageio.imread(r.content, file_extension)\n",
        "  image = resize(image, (256, 256))[..., :3]\n",
        "  video = imageio.mimread(video_path)\n",
        "  video_final = []\n",
        "  try:\n",
        "      for im in video:\n",
        "          video_final.append(im)\n",
        "  except RuntimeError:\n",
        "      pass\n",
        "  video_final = [resize(frame, (256, 256))[..., :3] for frame in video_final]\n",
        "  predictions = make_video(swap_index=[1, 2, 5], source_image = image, target_video = video_final,\n",
        "                           segmentation_module=segmentation_module, reconstruction_module=reconstruction_module, use_source_segmentation=True)\n",
        "  return predictions"
      ],
      "execution_count": null,
      "outputs": []
    },
    {
      "cell_type": "markdown",
      "metadata": {
        "id": "d0COWW5aM8Af"
      },
      "source": [
        "**Corremos el servicio del Bot de Discord**"
      ]
    },
    {
      "cell_type": "code",
      "metadata": {
        "colab": {
          "base_uri": "https://localhost:8080/",
          "height": 373
        },
        "id": "TmHInRHXUJ31",
        "outputId": "c837334c-ed53-45b6-a995-b6b801413489"
      },
      "source": [
        "import discord\n",
        "from discord.ext import commands\n",
        "import requests\n",
        "import shutil\n",
        "import os\n",
        "\n",
        "client = commands.Bot(command_prefix = \"#\")\n",
        "\n",
        "@client.event\n",
        "async def on_ready():\n",
        "  print(\"Nos loggeamos como {0.user}\".format(client))\n",
        "\n",
        "@client.command(aliases=['some_dirt','tobey'])\n",
        "async def dirt(ctx):\n",
        "\n",
        "  if ctx.message.author == client.user:\n",
        "    return\n",
        "  \n",
        "  if(len(ctx.message.attachments) > 0):\n",
        "    await ctx.send(\"Generando Deepfake\")\n",
        "    predictions = await get_video(ctx.message.attachments[0].url, ctx.message.attachments[0].filename, TOBEY)\n",
        "    newfile_path = f\"../generated{ctx.message.author}.mp4\"\n",
        "    if os.path.exists(newfile_path):\n",
        "      os.remove(newfile_path)\n",
        "    imageio.mimsave(newfile_path, [img_as_ubyte(frame) for frame in predictions])\n",
        "    await ctx.send(\"Deepfake generado\", file=discord.File(newfile_path))\n",
        "\n",
        "@client.command(aliases=['dicaprio','leo'])\n",
        "async def dicap(ctx):\n",
        "\n",
        "  if ctx.message.author == client.user:\n",
        "    return\n",
        "  \n",
        "  if(len(ctx.message.attachments) > 0):\n",
        "    await ctx.send(\"Generando Deepfake\")\n",
        "    predictions = await get_video(ctx.message.attachments[0].url, ctx.message.attachments[0].filename, DICAPRIO)\n",
        "    newfile_path = f\"../generated{ctx.message.author}.mp4\"\n",
        "    if os.path.exists(newfile_path):\n",
        "      os.remove(newfile_path)\n",
        "    imageio.mimsave(newfile_path, [img_as_ubyte(frame) for frame in predictions])\n",
        "    await ctx.send(\"Deepfake generado\", file=discord.File(newfile_path))\n",
        "\n",
        "client.run(TOKEN)"
      ],
      "execution_count": null,
      "outputs": [
        {
          "output_type": "error",
          "ename": "ModuleNotFoundError",
          "evalue": "ignored",
          "traceback": [
            "\u001b[0;31m---------------------------------------------------------------------------\u001b[0m",
            "\u001b[0;31mModuleNotFoundError\u001b[0m                       Traceback (most recent call last)",
            "\u001b[0;32m<ipython-input-3-4a3ea1ed36a7>\u001b[0m in \u001b[0;36m<module>\u001b[0;34m()\u001b[0m\n\u001b[0;32m----> 1\u001b[0;31m \u001b[0;32mimport\u001b[0m \u001b[0mdiscord\u001b[0m\u001b[0;34m\u001b[0m\u001b[0;34m\u001b[0m\u001b[0m\n\u001b[0m\u001b[1;32m      2\u001b[0m \u001b[0;32mfrom\u001b[0m \u001b[0mdiscord\u001b[0m\u001b[0;34m.\u001b[0m\u001b[0mext\u001b[0m \u001b[0;32mimport\u001b[0m \u001b[0mcommands\u001b[0m\u001b[0;34m\u001b[0m\u001b[0;34m\u001b[0m\u001b[0m\n\u001b[1;32m      3\u001b[0m \u001b[0;32mimport\u001b[0m \u001b[0mrequests\u001b[0m\u001b[0;34m\u001b[0m\u001b[0;34m\u001b[0m\u001b[0m\n\u001b[1;32m      4\u001b[0m \u001b[0;32mimport\u001b[0m \u001b[0mshutil\u001b[0m\u001b[0;34m\u001b[0m\u001b[0;34m\u001b[0m\u001b[0m\n\u001b[1;32m      5\u001b[0m \u001b[0;32mimport\u001b[0m \u001b[0mos\u001b[0m\u001b[0;34m\u001b[0m\u001b[0;34m\u001b[0m\u001b[0m\n",
            "\u001b[0;31mModuleNotFoundError\u001b[0m: No module named 'discord'",
            "",
            "\u001b[0;31m---------------------------------------------------------------------------\u001b[0;32m\nNOTE: If your import is failing due to a missing package, you can\nmanually install dependencies using either !pip or !apt.\n\nTo view examples of installing some common dependencies, click the\n\"Open Examples\" button below.\n\u001b[0;31m---------------------------------------------------------------------------\u001b[0m\n"
          ],
          "errorDetails": {
            "actions": [
              {
                "action": "open_url",
                "actionText": "Open Examples",
                "url": "/notebooks/snippets/importing_libraries.ipynb"
              }
            ]
          }
        }
      ]
    },
    {
      "cell_type": "markdown",
      "metadata": {
        "id": "ED1OPiYaSqRz"
      },
      "source": [
        "5. #### Conclusion\n",
        "\n",
        "A completar\n",
        "\n",
        "6. #### Bibliografia\n",
        "\n",
        "######Librerias de GITHUB sobre Deepfake\n",
        "https://github.com/AliaksandrSiarohin/first-order-model\n",
        "https://github.com/AliaksandrSiarohin/motion-cosegmentation\n",
        "######Informacion de como utilizar la API de Discord:\n",
        "https://discordpy.readthedocs.io/en/stable/api.html\n",
        "######Videos Utilizado para el Deepfake:\n",
        "https://www.youtube.com/watch?v=AITqA6OC9aA \n",
        "\n"
      ]
    }
  ]
}