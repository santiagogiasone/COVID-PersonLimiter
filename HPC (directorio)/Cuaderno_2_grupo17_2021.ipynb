{
  "nbformat": 4,
  "nbformat_minor": 0,
  "metadata": {
    "accelerator": "GPU",
    "colab": {
      "name": "Final DeepfakeDiscordBot.ipynb",
      "provenance": [],
      "collapsed_sections": [],
      "include_colab_link": true
    },
    "kernelspec": {
      "display_name": "Python 3",
      "name": "python3"
    },
    "language_info": {
      "name": "python"
    }
  },
  "cells": [
    {
      "cell_type": "markdown",
      "metadata": {
        "id": "view-in-github",
        "colab_type": "text"
      },
      "source": [
        "<a href=\"https://colab.research.google.com/github/santiagogiasone/COVID-PersonLimiter/blob/master/HPC%20(directorio)/Cuaderno_2_grupo17_2021.ipynb\" target=\"_parent\"><img src=\"https://colab.research.google.com/assets/colab-badge.svg\" alt=\"Open In Colab\"/></a>"
      ]
    },
    {
      "cell_type": "markdown",
      "metadata": {
        "id": "rPjPV0iDUT8g"
      },
      "source": [
        "<p align=\"center\">\n",
        "  <img align=\"center\" width=\"256\" height=\"256\" src=\"https://i.imgur.com/OskOQbI.png\">\n",
        "</p>\n",
        "\n",
        "#Deepfake Discord Bot\n",
        "\n",
        "\n",
        "1. ### **Introduccion**\n",
        "\n",
        "El siguiente ejemplo corresponde a la creacion de un Bot que interactuará en un Servidor de Discord. El bot será capaz de recibir como input una imagen de una persona y a traves de Alogoritmos de DeepFake, crear un video aparentemente real de esa persona, pero que en realidad se trata de un montaje.\n",
        "\n",
        "\n",
        "Deepfake es una técnica de inteligencia artificial que permite editar vídeos falsos de personas que aparentemente son reales, utilizando para ello algoritmos de aprendizaje no supervisados, conocidos en español como RGAs (Red generativa antagónica), y vídeos o imágenes ya existentes.​ El resultado final de dicha técnica es un vídeo muy realista, aunque sea ficticio\n"
      ]
    },
    {
      "cell_type": "markdown",
      "metadata": {
        "id": "IsS8JuIiF1IK"
      },
      "source": [
        "2.   #### Armado del ambiente\n",
        "\n",
        "Primero que nada es indispensable que configure el BOT de Discord, si usted no sabe como crear un bot y obtener su TOKEN nosotros le proveemos el mismo y puede dejar el TOKEN configurado en la variable de entorno por defecto.\n",
        "\n",
        "Link de Invitacion al BOT (Por si quiere usar el default): https://discord.com/api/oauth2/authorize?client_id=912791690639704134&permissions=517544069184&scope=bot\n",
        "\n",
        "Instalamos las dependencias de python para que el proyecto funcione correctamente\n",
        "\n"
      ]
    },
    {
      "cell_type": "markdown",
      "metadata": {
        "id": "wKQJP-dovNO_"
      },
      "source": [
        "\n",
        "**Checkpoint que permite la reconstruccion facial en la nube y los videos para hacer el deepfake**"
      ]
    },
    {
      "cell_type": "code",
      "metadata": {
        "id": "tmohZhMkveL6"
      },
      "source": [
        "# Video de Tobey\n",
        "!wget --no-check-certificate \"https://i.imgur.com/oBun5NF.mp4\" -O \"tobey.mp4\"\n",
        "\n",
        "# Video de Dicpario\n",
        "!wget --no-check-certificate \"https://i.imgur.com/nKfOq2L.mp4\" -O \"dicaprio.mp4\"\n",
        "\n",
        "# Video de Checkpoint\n",
        "!wget --load-cookies /tmp/cookies.txt \"https://docs.google.com/uc?export=download&confirm=$(wget --quiet --save-cookies /tmp/cookies.txt --keep-session-cookies --no-check-certificate 'https://docs.google.com/uc?export=download&id=1RjUu0nUn-Brz5dZ4olXVoSSPAHEo1Q0g' -O- | sed -rn 's/.*confirm=([0-9A-Za-z_]+).*/\\1\\n/p')&id=1RjUu0nUn-Brz5dZ4olXVoSSPAHEo1Q0g\" -O vox-5segments.pth.tar && rm -rf /tmp/cookies.txt"
      ],
      "execution_count": null,
      "outputs": []
    },
    {
      "cell_type": "markdown",
      "metadata": {
        "id": "i6HMy0RertJP"
      },
      "source": [
        "**Clonar el Repositorio de Deepfake**"
      ]
    },
    {
      "cell_type": "code",
      "metadata": {
        "id": "0A73BKUnrneZ"
      },
      "source": [
        "!git clone https://github.com/AliaksandrSiarohin/motion-cosegmentation motion-co-seg"
      ],
      "execution_count": null,
      "outputs": []
    },
    {
      "cell_type": "code",
      "metadata": {
        "id": "X45MNoMir7RM"
      },
      "source": [
        "cd motion-co-seg/"
      ],
      "execution_count": null,
      "outputs": []
    },
    {
      "cell_type": "code",
      "metadata": {
        "id": "v8nI5gv6EuUc"
      },
      "source": [
        "!pip install discord"
      ],
      "execution_count": null,
      "outputs": []
    },
    {
      "cell_type": "markdown",
      "metadata": {
        "id": "-IfKWkphGgcO"
      },
      "source": [
        "**Parcheo asyncio**"
      ]
    },
    {
      "cell_type": "code",
      "metadata": {
        "id": "L97ZM_kWYAin"
      },
      "source": [
        "## Este módulo parchea asyncio para permitir el uso anidado de asyncio.run y loop.run_until_complete.\n",
        "import nest_asyncio \n",
        "nest_asyncio.apply()"
      ],
      "execution_count": 5,
      "outputs": []
    },
    {
      "cell_type": "markdown",
      "metadata": {
        "id": "pj0Ang7Mw2D0"
      },
      "source": [
        "**Dependencias de DeepFake**"
      ]
    },
    {
      "cell_type": "code",
      "metadata": {
        "id": "O6quS9Vlw6JW"
      },
      "source": [
        "import imageio\n",
        "from skimage.transform import resize\n",
        "from part_swap import load_checkpoints\n",
        "from part_swap import make_video\n",
        "from skimage import img_as_ubyte"
      ],
      "execution_count": 6,
      "outputs": []
    },
    {
      "cell_type": "markdown",
      "metadata": {
        "id": "EQza3MJTg7Uk"
      },
      "source": [
        "**Variables de entorno**"
      ]
    },
    {
      "cell_type": "code",
      "metadata": {
        "id": "HLNA7KZVhBGf"
      },
      "source": [
        "## Configuracion de Variables de Entorno\n",
        "\n",
        "try:\n",
        "#@markdown ### Especifique el Token del BOT (se encuentra en el Documento PDF):\n",
        "  TOKEN = \"\" #@param {type:\"string\"}\n",
        "  if TOKEN == \"\":\n",
        "    print(\"Atencion. No se ha ingresado ningun Token. Es probable que la ejecucion del programa falle\")\n",
        "  TOBEY = \"../tobey.mp4\"\n",
        "  DICAPRIO = \"../dicaprio.mp4\"\n",
        "  cpu = False\n",
        "  reconstruction_module, segmentation_module = load_checkpoints(config='config/vox-256-sem-5segments.yaml', \n",
        "                                               checkpoint='../vox-5segments.pth.tar',\n",
        "                                               blend_scale=1)\n",
        "except:\n",
        "  print(\"Es necesario configurar las etapas previas del ambiente antes de seguir con esta configuracion\")"
      ],
      "execution_count": null,
      "outputs": []
    },
    {
      "cell_type": "markdown",
      "metadata": {
        "id": "UbJ8AlwfMS3z"
      },
      "source": [
        "3. #### Desarrollo\n",
        "\n",
        "Luego de iniciar el ambiente de desarrollo, procedemos a levantar nuestro servicio de discord y crear nuestra funcion para obtener el video con la cara del protagonista del video modificada por la que el usuario de discord envio. Para ello redimensionamos ambos archivos para mantener consistencia en el video y los transformarmos a un tipo de variable aceptable por la libreria de deepfake, luego de esto la libreria de discord se encarga de enviar el mensaje conjunto al video modificado.\n",
        "\n",
        "\n",
        "\n",
        "**Definimos nuestra funcion de Deepfake**"
      ]
    },
    {
      "cell_type": "code",
      "metadata": {
        "id": "9-2Z9c9pMWu0"
      },
      "source": [
        "async def get_video(img_url, file_name, video_path):\n",
        "  try:\n",
        "    filename, file_extension = os.path.splitext(file_name)\n",
        "    r = requests.get(img_url)\n",
        "    image = imageio.imread(r.content, file_extension)\n",
        "    image = resize(image, (256, 256))[..., :3]\n",
        "    video = imageio.mimread(video_path, memtest=False)\n",
        "    video_final = []\n",
        "    try:\n",
        "      for im in video:\n",
        "        video_final.append(im)\n",
        "    except RuntimeError:\n",
        "      pass\n",
        "    video_final = [resize(frame, (256, 256))[..., :3] for frame in video_final]\n",
        "    predictions = make_video(swap_index=[1, 2, 5], source_image = image, target_video = video_final,\n",
        "                           segmentation_module=segmentation_module, reconstruction_module=reconstruction_module, use_source_segmentation=True)\n",
        "    return predictions\n",
        "  except: \n",
        "    print(\"El objeto enviado no es una imagen\")\n",
        "\n"
      ],
      "execution_count": 20,
      "outputs": []
    },
    {
      "cell_type": "markdown",
      "metadata": {
        "id": "d0COWW5aM8Af"
      },
      "source": [
        "**Corremos el servicio del Bot de Discord**"
      ]
    },
    {
      "cell_type": "code",
      "metadata": {
        "id": "TmHInRHXUJ31"
      },
      "source": [
        "try:\n",
        "  import discord\n",
        "  from discord.ext import commands\n",
        "except ModuleNotFoundError:\n",
        "  print(\"Se debe configurar correctamente el Ambiente. Ejecutar !pip install Discord dentro del Modulo: -Clonado del Repositorio DeepFake-\")\n",
        "import requests\n",
        "import shutil\n",
        "import os\n",
        "\n",
        "imageio.plugins.freeimage.download()\n",
        "\n",
        "client = commands.Bot(command_prefix = \"#\")\n",
        "\n",
        "@client.event\n",
        "async def on_ready():\n",
        "  print(\"Nos loggeamos como {0.user}\".format(client))\n",
        "\n",
        "\n",
        "@client.command(aliases=['some_dirt','tobey'])\n",
        "async def dirt(ctx):\n",
        "\n",
        "  if ctx.message.author == client.user:\n",
        "    return\n",
        "  \n",
        "  if(len(ctx.message.attachments) > 0):\n",
        "    await ctx.send(\"Generando Deepfake\")\n",
        "    try:\n",
        "      predictions = await get_video(ctx.message.attachments[0].url, ctx.message.attachments[0].filename, TOBEY)\n",
        "      newfile_path = f\"../generated{ctx.message.author}.mp4\"\n",
        "      if os.path.exists(newfile_path):\n",
        "        os.remove(newfile_path)\n",
        "      imageio.mimsave(newfile_path, [img_as_ubyte(frame) for frame in predictions])\n",
        "      await ctx.send(\"Deepfake generado\", file=discord.File(newfile_path))\n",
        "    except:\n",
        "      await ctx.send(\"El objeto enviado no es una imagen\")\n",
        "\n",
        "@client.command(aliases=['dicaprio','leo'])\n",
        "async def dicap(ctx):\n",
        "\n",
        "  if ctx.message.author == client.user:\n",
        "    return\n",
        "  \n",
        "  if(len(ctx.message.attachments) > 0):\n",
        "    await ctx.send(\"Generando Deepfake\")\n",
        "    try:\n",
        "      predictions = await get_video(ctx.message.attachments[0].url, ctx.message.attachments[0].filename, DICAPRIO)\n",
        "      newfile_path = f\"../generated{ctx.message.author}.mp4\"\n",
        "      if os.path.exists(newfile_path):\n",
        "        os.remove(newfile_path)\n",
        "      imageio.mimsave(newfile_path, [img_as_ubyte(frame) for frame in predictions])\n",
        "      await ctx.send(\"Deepfake generado\", file=discord.File(newfile_path))\n",
        "    except:\n",
        "      await ctx.send(\"El objeto enviado no es una imagen\")\n",
        "\n",
        "try:\n",
        "  client.run(TOKEN)\n",
        "except NameError:\n",
        "  print(\"Se debe configurar correctamente el Ambiente. Completar con el Token provisto en la Documentacion (Informe PDF) dentro del Modulo -Variables de Entorno-\")\n",
        "except RuntimeError: \n",
        "  print(\"Se ha finalizado el servicio de Discord o no ha configurado correctamente el Token del Bot en la seccion -Variables de Entorno-\")\n"
      ],
      "execution_count": null,
      "outputs": []
    },
    {
      "cell_type": "markdown",
      "metadata": {
        "id": "ED1OPiYaSqRz"
      },
      "source": [
        "\n",
        "5. #### Conclusion\n",
        "\n",
        "Este trabajo práctico nos fue de mucha utilidad ya que aprendimos diversos conceptos que no teníamos muy presentes. Tanto de la temática de Computación de Altas Prestaciones, sus diversos algoritmos existentes para el procesamiento de información, cómo la GPU hace el procesamiento de datos, cómo interactúan la CPU con la GPU mediante las instrucciones de kernel, el uso de la plataforma de Google Colab, la comparativa de las velocidades de procesamiento tanto del CPU como de la GPU y el algoritmo de auto-detección que tiene Discord ante un posible filtrado de Token de un Bot propio en la web.\n",
        "\n",
        "6. #### Bibliografia\n",
        "\n",
        "######Papers:\n",
        "[6] Zendran, M. y Rusiecki, A. (2021). Swapping Face Images with Generative Neural Networks for Deepfake Technology – Experimental Study. Procedia Computer Science, 192, 834–843. https://doi.org/10.1016/j.procs.2021.08.086\n",
        "\n",
        "[7] Nguyen, T. T., Nguyen, C. M., Nguyen, D. T., Nguyen, D. T. y Nahavandi, S. (2020). Deep Learning for Deepfakes Creation and Detection: A Survey. Fellow. https://www.researchgate.net/publication/336055871_Deep_Learning_for_Deepfakes_Creation_and_Detection_A_Survey\n",
        "\n",
        "######Librerias de GITHUB sobre Deepfake:\n",
        "[8] AliaksandrSiarohin: first-order-model. (30/06/2021). GitHub. https://github.com/AliaksandrSiarohin/first-order-model\n",
        "\n",
        "[9] AliaksandrSiarohin: motion-cosegmentation. (24/04/2021). GitHub. https://github.com/AliaksandrSiarohin/motion-cosegmentation\n",
        "\n",
        "######Informacion de como utilizar la API de Discord:\n",
        "[10] API Reference: https://discordpy.readthedocs.io/en/stable/api.html\n",
        "\n",
        "\n"
      ]
    }
  ]
}