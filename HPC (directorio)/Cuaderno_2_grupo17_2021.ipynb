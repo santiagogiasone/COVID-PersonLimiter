{
  "nbformat": 4,
  "nbformat_minor": 0,
  "metadata": {
    "accelerator": "GPU",
    "colab": {
      "name": "Final DeepfakeDiscordBot.ipynb",
      "provenance": [],
      "collapsed_sections": [],
      "include_colab_link": true
    },
    "kernelspec": {
      "display_name": "Python 3",
      "name": "python3"
    },
    "language_info": {
      "name": "python"
    }
  },
  "cells": [
    {
      "cell_type": "markdown",
      "metadata": {
        "id": "view-in-github",
        "colab_type": "text"
      },
      "source": [
        "<a href=\"https://colab.research.google.com/github/santiagogiasone/COVID-PersonLimiter/blob/master/HPC%20(directorio)/Cuaderno_2_grupo17_2021.ipynb\" target=\"_parent\"><img src=\"https://colab.research.google.com/assets/colab-badge.svg\" alt=\"Open In Colab\"/></a>"
      ]
    },
    {
      "cell_type": "markdown",
      "metadata": {
        "id": "rPjPV0iDUT8g"
      },
      "source": [
        "<p align=\"center\">\n",
        "  <img align=\"center\" width=\"256\" height=\"256\" src=\"https://i.imgur.com/OskOQbI.png\">\n",
        "</p>\n",
        "\n",
        "#Deepfake Discord Bot\n",
        "\n",
        "\n",
        "1. ### **Introduccion**\n",
        "\n",
        "El siguiente ejemplo corresponde a la creacion de un Bot que interactuará en un Servidor de Discord. El bot será capaz de recibir como input una imagen de una persona y a traves de Alogoritmos de DeepFake, crear un video aparentemente real de esa persona, pero que en realidad se trata de un montaje.\n",
        "\n",
        "\n",
        "Deepfake es una técnica de inteligencia artificial que permite editar vídeos falsos de personas que aparentemente son reales, utilizando para ello algoritmos de aprendizaje no supervisados, conocidos en español como RGAs (Red generativa antagónica), y vídeos o imágenes ya existentes.​ El resultado final de dicha técnica es un vídeo muy realista, aunque sea ficticio\n"
      ]
    },
    {
      "cell_type": "markdown",
      "metadata": {
        "id": "IsS8JuIiF1IK"
      },
      "source": [
        "2.   #### Armado del ambiente\n",
        "\n",
        "Primero que nada es indispensable que configure el BOT de Discord, si usted no sabe como crear un bot y obtener su TOKEN nosotros le proveemos el mismo y puede dejar el TOKEN configurado en la variable de entorno por defecto.\n",
        "\n",
        "Link de Invitacion al BOT (Por si quiere usar el default): https://discord.com/api/oauth2/authorize?client_id=912791690639704134&permissions=517544069184&scope=bot\n",
        "\n",
        "Instalamos las dependencias de python para que el proyecto funcione correctamente\n",
        "\n"
      ]
    },
    {
      "cell_type": "markdown",
      "metadata": {
        "id": "wKQJP-dovNO_"
      },
      "source": [
        "\n",
        "**Checkpoint que permite la reconstruccion facial en la nube y los videos para hacer el deepfake**"
      ]
    },
    {
      "cell_type": "code",
      "metadata": {
        "id": "tmohZhMkveL6",
        "colab": {
          "base_uri": "https://localhost:8080/"
        },
        "outputId": "3c855431-3d31-40e3-8e6f-7ea73a9c231c"
      },
      "source": [
        "# Video de Tobey\n",
        "!wget --no-check-certificate \"https://i.imgur.com/oBun5NF.mp4\" -O \"tobey.mp4\"\n",
        "\n",
        "# Video de Dicpario\n",
        "!wget --no-check-certificate \"https://i.imgur.com/nKfOq2L.mp4\" -O \"dicaprio.mp4\"\n",
        "\n",
        "# Video de Checkpoint\n",
        "!wget --load-cookies /tmp/cookies.txt \"https://docs.google.com/uc?export=download&confirm=$(wget --quiet --save-cookies /tmp/cookies.txt --keep-session-cookies --no-check-certificate 'https://docs.google.com/uc?export=download&id=1RjUu0nUn-Brz5dZ4olXVoSSPAHEo1Q0g' -O- | sed -rn 's/.*confirm=([0-9A-Za-z_]+).*/\\1\\n/p')&id=1RjUu0nUn-Brz5dZ4olXVoSSPAHEo1Q0g\" -O vox-5segments.pth.tar && rm -rf /tmp/cookies.txt"
      ],
      "execution_count": 1,
      "outputs": [
        {
          "output_type": "stream",
          "name": "stdout",
          "text": [
            "--2021-11-26 19:50:18--  https://i.imgur.com/oBun5NF.mp4\n",
            "Resolving i.imgur.com (i.imgur.com)... 151.101.24.193\n",
            "Connecting to i.imgur.com (i.imgur.com)|151.101.24.193|:443... connected.\n",
            "HTTP request sent, awaiting response... 200 OK\n",
            "Length: 414586 (405K) [video/mp4]\n",
            "Saving to: ‘tobey.mp4’\n",
            "\n",
            "tobey.mp4           100%[===================>] 404.87K   933KB/s    in 0.4s    \n",
            "\n",
            "2021-11-26 19:50:19 (933 KB/s) - ‘tobey.mp4’ saved [414586/414586]\n",
            "\n",
            "--2021-11-26 19:50:19--  https://i.imgur.com/nKfOq2L.mp4\n",
            "Resolving i.imgur.com (i.imgur.com)... 151.101.24.193\n",
            "Connecting to i.imgur.com (i.imgur.com)|151.101.24.193|:443... connected.\n",
            "HTTP request sent, awaiting response... 200 OK\n",
            "Length: 2052314 (2.0M) [video/mp4]\n",
            "Saving to: ‘dicaprio.mp4’\n",
            "\n",
            "dicaprio.mp4        100%[===================>]   1.96M  2.79MB/s    in 0.7s    \n",
            "\n",
            "2021-11-26 19:50:20 (2.79 MB/s) - ‘dicaprio.mp4’ saved [2052314/2052314]\n",
            "\n",
            "--2021-11-26 19:50:21--  https://docs.google.com/uc?export=download&confirm=Wi3s&id=1RjUu0nUn-Brz5dZ4olXVoSSPAHEo1Q0g\n",
            "Resolving docs.google.com (docs.google.com)... 142.251.8.101, 142.251.8.102, 142.251.8.100, ...\n",
            "Connecting to docs.google.com (docs.google.com)|142.251.8.101|:443... connected.\n",
            "HTTP request sent, awaiting response... 302 Moved Temporarily\n",
            "Location: https://doc-10-1k-docs.googleusercontent.com/docs/securesc/t33g27d1uqnae0vh6oiv2hjai9gmi9hm/lf468eon58fh4cmaqk8ccrto3flbc6km/1637956200000/01171558370733780120/15829649932776060177Z/1RjUu0nUn-Brz5dZ4olXVoSSPAHEo1Q0g?e=download [following]\n",
            "--2021-11-26 19:50:21--  https://doc-10-1k-docs.googleusercontent.com/docs/securesc/t33g27d1uqnae0vh6oiv2hjai9gmi9hm/lf468eon58fh4cmaqk8ccrto3flbc6km/1637956200000/01171558370733780120/15829649932776060177Z/1RjUu0nUn-Brz5dZ4olXVoSSPAHEo1Q0g?e=download\n",
            "Resolving doc-10-1k-docs.googleusercontent.com (doc-10-1k-docs.googleusercontent.com)... 64.233.189.132, 2404:6800:4008:c07::84\n",
            "Connecting to doc-10-1k-docs.googleusercontent.com (doc-10-1k-docs.googleusercontent.com)|64.233.189.132|:443... connected.\n",
            "HTTP request sent, awaiting response... 302 Found\n",
            "Location: https://docs.google.com/nonceSigner?nonce=fsu7ks56j4lcu&continue=https://doc-10-1k-docs.googleusercontent.com/docs/securesc/t33g27d1uqnae0vh6oiv2hjai9gmi9hm/lf468eon58fh4cmaqk8ccrto3flbc6km/1637956200000/01171558370733780120/15829649932776060177Z/1RjUu0nUn-Brz5dZ4olXVoSSPAHEo1Q0g?e%3Ddownload&hash=rcug4phjpnderfokt5sn3g5ugu5t10bh [following]\n",
            "--2021-11-26 19:50:21--  https://docs.google.com/nonceSigner?nonce=fsu7ks56j4lcu&continue=https://doc-10-1k-docs.googleusercontent.com/docs/securesc/t33g27d1uqnae0vh6oiv2hjai9gmi9hm/lf468eon58fh4cmaqk8ccrto3flbc6km/1637956200000/01171558370733780120/15829649932776060177Z/1RjUu0nUn-Brz5dZ4olXVoSSPAHEo1Q0g?e%3Ddownload&hash=rcug4phjpnderfokt5sn3g5ugu5t10bh\n",
            "Connecting to docs.google.com (docs.google.com)|142.251.8.101|:443... connected.\n",
            "HTTP request sent, awaiting response... 302 Found\n",
            "Location: https://doc-10-1k-docs.googleusercontent.com/docs/securesc/t33g27d1uqnae0vh6oiv2hjai9gmi9hm/lf468eon58fh4cmaqk8ccrto3flbc6km/1637956200000/01171558370733780120/15829649932776060177Z/1RjUu0nUn-Brz5dZ4olXVoSSPAHEo1Q0g?e=download&nonce=fsu7ks56j4lcu&user=15829649932776060177Z&hash=oc8he33icsqt3p87gtbb6jl3rlqaphkm [following]\n",
            "--2021-11-26 19:50:22--  https://doc-10-1k-docs.googleusercontent.com/docs/securesc/t33g27d1uqnae0vh6oiv2hjai9gmi9hm/lf468eon58fh4cmaqk8ccrto3flbc6km/1637956200000/01171558370733780120/15829649932776060177Z/1RjUu0nUn-Brz5dZ4olXVoSSPAHEo1Q0g?e=download&nonce=fsu7ks56j4lcu&user=15829649932776060177Z&hash=oc8he33icsqt3p87gtbb6jl3rlqaphkm\n",
            "Connecting to doc-10-1k-docs.googleusercontent.com (doc-10-1k-docs.googleusercontent.com)|64.233.189.132|:443... connected.\n",
            "HTTP request sent, awaiting response... 200 OK\n",
            "Length: 727698141 (694M) [application/x-tar]\n",
            "Saving to: ‘vox-5segments.pth.tar’\n",
            "\n",
            "vox-5segments.pth.t 100%[===================>] 693.99M  98.5MB/s    in 6.7s    \n",
            "\n",
            "2021-11-26 19:50:29 (103 MB/s) - ‘vox-5segments.pth.tar’ saved [727698141/727698141]\n",
            "\n"
          ]
        }
      ]
    },
    {
      "cell_type": "markdown",
      "metadata": {
        "id": "i6HMy0RertJP"
      },
      "source": [
        "**Clonar el Repositorio de Deepfake**"
      ]
    },
    {
      "cell_type": "code",
      "metadata": {
        "id": "0A73BKUnrneZ",
        "colab": {
          "base_uri": "https://localhost:8080/"
        },
        "outputId": "fffa0f94-8128-4273-ff00-9a34f05eea1d"
      },
      "source": [
        "!git clone https://github.com/AliaksandrSiarohin/motion-cosegmentation motion-co-seg"
      ],
      "execution_count": 2,
      "outputs": [
        {
          "output_type": "stream",
          "name": "stdout",
          "text": [
            "Cloning into 'motion-co-seg'...\n",
            "remote: Enumerating objects: 103, done.\u001b[K\n",
            "remote: Counting objects: 100% (13/13), done.\u001b[K\n",
            "remote: Compressing objects: 100% (13/13), done.\u001b[K\n",
            "remote: Total 103 (delta 7), reused 0 (delta 0), pack-reused 90\u001b[K\n",
            "Receiving objects: 100% (103/103), 42.61 MiB | 14.13 MiB/s, done.\n",
            "Resolving deltas: 100% (35/35), done.\n"
          ]
        }
      ]
    },
    {
      "cell_type": "code",
      "metadata": {
        "id": "X45MNoMir7RM",
        "colab": {
          "base_uri": "https://localhost:8080/"
        },
        "outputId": "826babe0-18d0-4016-f402-f5148e77f6d9"
      },
      "source": [
        "cd motion-co-seg/"
      ],
      "execution_count": 3,
      "outputs": [
        {
          "output_type": "stream",
          "name": "stdout",
          "text": [
            "/content/motion-co-seg\n"
          ]
        }
      ]
    },
    {
      "cell_type": "code",
      "metadata": {
        "id": "v8nI5gv6EuUc",
        "colab": {
          "base_uri": "https://localhost:8080/"
        },
        "outputId": "5781a19f-2dc5-4f7f-ffe7-58e3bbba4048"
      },
      "source": [
        "!pip install discord"
      ],
      "execution_count": 4,
      "outputs": [
        {
          "output_type": "stream",
          "name": "stdout",
          "text": [
            "Collecting discord\n",
            "  Downloading discord-1.7.3-py3-none-any.whl (1.1 kB)\n",
            "Collecting discord.py>=1.7.3\n",
            "  Downloading discord.py-1.7.3-py3-none-any.whl (786 kB)\n",
            "\u001b[K     |████████████████████████████████| 786 kB 4.3 MB/s \n",
            "\u001b[?25hCollecting aiohttp<3.8.0,>=3.6.0\n",
            "  Downloading aiohttp-3.7.4.post0-cp37-cp37m-manylinux2014_x86_64.whl (1.3 MB)\n",
            "\u001b[K     |████████████████████████████████| 1.3 MB 36.9 MB/s \n",
            "\u001b[?25hRequirement already satisfied: typing-extensions>=3.6.5 in /usr/local/lib/python3.7/dist-packages (from aiohttp<3.8.0,>=3.6.0->discord.py>=1.7.3->discord) (3.10.0.2)\n",
            "Requirement already satisfied: chardet<5.0,>=2.0 in /usr/local/lib/python3.7/dist-packages (from aiohttp<3.8.0,>=3.6.0->discord.py>=1.7.3->discord) (3.0.4)\n",
            "Requirement already satisfied: attrs>=17.3.0 in /usr/local/lib/python3.7/dist-packages (from aiohttp<3.8.0,>=3.6.0->discord.py>=1.7.3->discord) (21.2.0)\n",
            "Collecting yarl<2.0,>=1.0\n",
            "  Downloading yarl-1.7.2-cp37-cp37m-manylinux_2_5_x86_64.manylinux1_x86_64.manylinux_2_12_x86_64.manylinux2010_x86_64.whl (271 kB)\n",
            "\u001b[K     |████████████████████████████████| 271 kB 50.7 MB/s \n",
            "\u001b[?25hCollecting multidict<7.0,>=4.5\n",
            "  Downloading multidict-5.2.0-cp37-cp37m-manylinux_2_5_x86_64.manylinux1_x86_64.manylinux_2_12_x86_64.manylinux2010_x86_64.whl (160 kB)\n",
            "\u001b[K     |████████████████████████████████| 160 kB 43.3 MB/s \n",
            "\u001b[?25hCollecting async-timeout<4.0,>=3.0\n",
            "  Downloading async_timeout-3.0.1-py3-none-any.whl (8.2 kB)\n",
            "Requirement already satisfied: idna>=2.0 in /usr/local/lib/python3.7/dist-packages (from yarl<2.0,>=1.0->aiohttp<3.8.0,>=3.6.0->discord.py>=1.7.3->discord) (2.10)\n",
            "Installing collected packages: multidict, yarl, async-timeout, aiohttp, discord.py, discord\n",
            "Successfully installed aiohttp-3.7.4.post0 async-timeout-3.0.1 discord-1.7.3 discord.py-1.7.3 multidict-5.2.0 yarl-1.7.2\n"
          ]
        }
      ]
    },
    {
      "cell_type": "markdown",
      "metadata": {
        "id": "-IfKWkphGgcO"
      },
      "source": [
        "**Parcheo asyncio**"
      ]
    },
    {
      "cell_type": "code",
      "metadata": {
        "id": "L97ZM_kWYAin"
      },
      "source": [
        "## Este módulo parchea asyncio para permitir el uso anidado de asyncio.run y loop.run_until_complete.\n",
        "import nest_asyncio \n",
        "nest_asyncio.apply()"
      ],
      "execution_count": 5,
      "outputs": []
    },
    {
      "cell_type": "markdown",
      "metadata": {
        "id": "pj0Ang7Mw2D0"
      },
      "source": [
        "**Dependencias de DeepFake**"
      ]
    },
    {
      "cell_type": "code",
      "metadata": {
        "id": "O6quS9Vlw6JW"
      },
      "source": [
        "import imageio\n",
        "from skimage.transform import resize\n",
        "from part_swap import load_checkpoints\n",
        "from part_swap import make_video\n",
        "from skimage import img_as_ubyte"
      ],
      "execution_count": 6,
      "outputs": []
    },
    {
      "cell_type": "markdown",
      "metadata": {
        "id": "EQza3MJTg7Uk"
      },
      "source": [
        "**Variables de entorno**"
      ]
    },
    {
      "cell_type": "code",
      "metadata": {
        "id": "HLNA7KZVhBGf",
        "colab": {
          "base_uri": "https://localhost:8080/"
        },
        "outputId": "e9ec85b1-d093-44f5-9b13-5a8232a1489c"
      },
      "source": [
        "## Configuracion de Variables de Entorno\n",
        "\n",
        "try:\n",
        "#@markdown ### Especifique el Token del BOT (se encuentra en el Documento PDF):\n",
        "  TOKEN = \"OTEyNzkxNjkwNjM5NzA0MTM0.YZ1FgQ.yxtJNLEFAASeXu8zdC476hAYkGw\" #@param {type:\"string\"}\n",
        "  if TOKEN == \"\":\n",
        "    print(\"Atencion. No se ha ingresado ningun Token. Es probable que la ejecucion del programa falle\")\n",
        "  TOBEY = \"../tobey.mp4\"\n",
        "  DICAPRIO = \"../dicaprio.mp4\"\n",
        "  cpu = False\n",
        "  reconstruction_module, segmentation_module = load_checkpoints(config='config/vox-256-sem-5segments.yaml', \n",
        "                                               checkpoint='../vox-5segments.pth.tar',\n",
        "                                               blend_scale=1)\n",
        "except:\n",
        "  print(\"Es necesario configurar las etapas previas del ambiente antes de seguir con esta configuracion\")"
      ],
      "execution_count": 7,
      "outputs": [
        {
          "output_type": "stream",
          "name": "stderr",
          "text": [
            "/usr/local/lib/python3.7/dist-packages/torch/functional.py:445: UserWarning: torch.meshgrid: in an upcoming release, it will be required to pass the indexing argument. (Triggered internally at  ../aten/src/ATen/native/TensorShape.cpp:2157.)\n",
            "  return _VF.meshgrid(tensors, **kwargs)  # type: ignore[attr-defined]\n"
          ]
        }
      ]
    },
    {
      "cell_type": "markdown",
      "metadata": {
        "id": "UbJ8AlwfMS3z"
      },
      "source": [
        "3. #### Desarrollo\n",
        "\n",
        "Luego de iniciar el ambiente de desarrollo, procedemos a levantar nuestro servicio de discord y crear nuestra funcion para obtener el video con la cara del protagonista del video modificada por la que el usuario de discord envio. Para ello redimensionamos ambos archivos para mantener consistencia en el video y los transformarmos a un tipo de variable aceptable por la libreria de deepfake, luego de esto la libreria de discord se encarga de enviar el mensaje conjunto al video modificado.\n",
        "\n",
        "\n",
        "\n",
        "**Definimos nuestra funcion de Deepfake**"
      ]
    },
    {
      "cell_type": "code",
      "metadata": {
        "id": "9-2Z9c9pMWu0"
      },
      "source": [
        "async def get_video(img_url, file_name, video_path):\n",
        "  try:\n",
        "    filename, file_extension = os.path.splitext(file_name)\n",
        "    r = requests.get(img_url)\n",
        "    image = imageio.imread(r.content, file_extension)\n",
        "    image = resize(image, (256, 256))[..., :3]\n",
        "    video = imageio.mimread(video_path, memtest=False)\n",
        "    video_final = []\n",
        "    try:\n",
        "      for im in video:\n",
        "        video_final.append(im)\n",
        "    except RuntimeError:\n",
        "      pass\n",
        "    video_final = [resize(frame, (256, 256))[..., :3] for frame in video_final]\n",
        "    predictions = make_video(swap_index=[1, 2, 5], source_image = image, target_video = video_final,\n",
        "                           segmentation_module=segmentation_module, reconstruction_module=reconstruction_module, use_source_segmentation=True)\n",
        "    return predictions\n",
        "  except: \n",
        "    print(\"El objeto enviado no es una imagen\")\n",
        "\n"
      ],
      "execution_count": 20,
      "outputs": []
    },
    {
      "cell_type": "markdown",
      "metadata": {
        "id": "d0COWW5aM8Af"
      },
      "source": [
        "**Corremos el servicio del Bot de Discord**"
      ]
    },
    {
      "cell_type": "code",
      "metadata": {
        "id": "TmHInRHXUJ31",
        "colab": {
          "base_uri": "https://localhost:8080/"
        },
        "outputId": "05a95ffa-ed83-456d-87b7-b33d508bfb35"
      },
      "source": [
        "try:\n",
        "  import discord\n",
        "  from discord.ext import commands\n",
        "except ModuleNotFoundError:\n",
        "  print(\"Se debe configurar correctamente el Ambiente. Ejecutar !pip install Discord dentro del Modulo: -Clonado del Repositorio DeepFake-\")\n",
        "import requests\n",
        "import shutil\n",
        "import os\n",
        "\n",
        "imageio.plugins.freeimage.download()\n",
        "\n",
        "client = commands.Bot(command_prefix = \"#\")\n",
        "\n",
        "@client.event\n",
        "async def on_ready():\n",
        "  print(\"Nos loggeamos como {0.user}\".format(client))\n",
        "\n",
        "\n",
        "@client.command(aliases=['some_dirt','tobey'])\n",
        "async def dirt(ctx):\n",
        "\n",
        "  if ctx.message.author == client.user:\n",
        "    return\n",
        "  \n",
        "  if(len(ctx.message.attachments) > 0):\n",
        "    await ctx.send(\"Generando Deepfake\")\n",
        "    try:\n",
        "      predictions = await get_video(ctx.message.attachments[0].url, ctx.message.attachments[0].filename, TOBEY)\n",
        "      newfile_path = f\"../generated{ctx.message.author}.mp4\"\n",
        "      if os.path.exists(newfile_path):\n",
        "        os.remove(newfile_path)\n",
        "      imageio.mimsave(newfile_path, [img_as_ubyte(frame) for frame in predictions])\n",
        "      await ctx.send(\"Deepfake generado\", file=discord.File(newfile_path))\n",
        "    except:\n",
        "      await ctx.send(\"El objeto enviado no es una imagen\")\n",
        "\n",
        "@client.command(aliases=['dicaprio','leo'])\n",
        "async def dicap(ctx):\n",
        "\n",
        "  if ctx.message.author == client.user:\n",
        "    return\n",
        "  \n",
        "  if(len(ctx.message.attachments) > 0):\n",
        "    await ctx.send(\"Generando Deepfake\")\n",
        "    try:\n",
        "      predictions = await get_video(ctx.message.attachments[0].url, ctx.message.attachments[0].filename, DICAPRIO)\n",
        "      newfile_path = f\"../generated{ctx.message.author}.mp4\"\n",
        "      if os.path.exists(newfile_path):\n",
        "        os.remove(newfile_path)\n",
        "      imageio.mimsave(newfile_path, [img_as_ubyte(frame) for frame in predictions])\n",
        "      await ctx.send(\"Deepfake generado\", file=discord.File(newfile_path))\n",
        "    except:\n",
        "      await ctx.send(\"El objeto enviado no es una imagen\")\n",
        "\n",
        "try:\n",
        "  client.run(TOKEN)\n",
        "except NameError:\n",
        "  print(\"Se debe configurar correctamente el Ambiente. Completar con el Token provisto en la Documentacion (Informe PDF) dentro del Modulo -Variables de Entorno-\")\n",
        "except RuntimeError: \n",
        "  print(\"Se ha finalizado el servicio de Discord o no ha configurado correctamente el Token del Bot en la seccion -Variables de Entorno-\")\n"
      ],
      "execution_count": null,
      "outputs": [
        {
          "output_type": "stream",
          "name": "stdout",
          "text": [
            "Nos loggeamos como FakeCord#4123\n"
          ]
        },
        {
          "output_type": "stream",
          "name": "stderr",
          "text": [
            "\r  0%|          | 0/444 [00:00<?, ?it/s]/usr/local/lib/python3.7/dist-packages/torch/nn/functional.py:4004: UserWarning: Default grid_sample and affine_grid behavior has changed to align_corners=False since 1.3.0. Please specify align_corners=True if the old behavior is desired. See the documentation of grid_sample for details.\n",
            "  \"Default grid_sample and affine_grid behavior has changed \"\n",
            "/usr/local/lib/python3.7/dist-packages/torch/nn/functional.py:1806: UserWarning: nn.functional.sigmoid is deprecated. Use torch.sigmoid instead.\n",
            "  warnings.warn(\"nn.functional.sigmoid is deprecated. Use torch.sigmoid instead.\")\n",
            "100%|██████████| 444/444 [01:18<00:00,  5.68it/s]\n"
          ]
        },
        {
          "output_type": "stream",
          "name": "stdout",
          "text": [
            "Nos loggeamos como FakeCord#4123\n"
          ]
        },
        {
          "output_type": "stream",
          "name": "stderr",
          "text": [
            "100%|██████████| 137/137 [00:24<00:00,  5.67it/s]\n"
          ]
        },
        {
          "output_type": "stream",
          "name": "stdout",
          "text": [
            "El objeto enviado no es una imagen\n",
            "El objeto enviado no es una imagen\n"
          ]
        }
      ]
    },
    {
      "cell_type": "markdown",
      "metadata": {
        "id": "ED1OPiYaSqRz"
      },
      "source": [
        "\n",
        "5. #### Conclusion\n",
        "\n",
        "Este trabajo práctico nos fue de mucha utilidad ya que aprendimos diversos conceptos que no teníamos muy presentes. Tanto de la temática de Computación de Altas Prestaciones, sus diversos algoritmos existentes para el procesamiento de información, cómo la GPU hace el procesamiento de datos, cómo interactúan la CPU con la GPU mediante las instrucciones de kernel, el uso de la plataforma de Google Colab, la comparativa de las velocidades de procesamiento tanto del CPU como de la GPU y el algoritmo de auto-detección que tiene Discord ante un posible filtrado de Token de un Bot propio en la web.\n",
        "\n",
        "6. #### Bibliografia\n",
        "\n",
        "######Papers:\n",
        "[6] Zendran, M. y Rusiecki, A. (2021). Swapping Face Images with Generative Neural Networks for Deepfake Technology – Experimental Study. Procedia Computer Science, 192, 834–843. https://doi.org/10.1016/j.procs.2021.08.086\n",
        "\n",
        "[7] Nguyen, T. T., Nguyen, C. M., Nguyen, D. T., Nguyen, D. T. y Nahavandi, S. (2020). Deep Learning for Deepfakes Creation and Detection: A Survey. Fellow. https://www.researchgate.net/publication/336055871_Deep_Learning_for_Deepfakes_Creation_and_Detection_A_Survey\n",
        "\n",
        "######Librerias de GITHUB sobre Deepfake:\n",
        "[8] AliaksandrSiarohin: first-order-model. (30/06/2021). GitHub. https://github.com/AliaksandrSiarohin/first-order-model\n",
        "\n",
        "[9] AliaksandrSiarohin: motion-cosegmentation. (24/04/2021). GitHub. https://github.com/AliaksandrSiarohin/motion-cosegmentation\n",
        "\n",
        "######Informacion de como utilizar la API de Discord:\n",
        "[10] API Reference: https://discordpy.readthedocs.io/en/stable/api.html\n",
        "\n",
        "\n"
      ]
    }
  ]
}